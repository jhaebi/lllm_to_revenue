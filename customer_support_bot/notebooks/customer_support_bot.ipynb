{
 "cells": [
  {
   "cell_type": "code",
   "execution_count": 1,
   "id": "353bdd91-4cb1-4a73-b56b-547cb10bdac1",
   "metadata": {},
   "outputs": [],
   "source": [
    "%run notebooks/customer_support_functions.ipynb\n",
    "\n"
   ]
  },
  {
   "cell_type": "code",
   "execution_count": 2,
   "id": "b1ea8f3b-52db-4311-b59f-ad83cdb9b8d5",
   "metadata": {},
   "outputs": [],
   "source": [
    "template_text = \"\"\"You are a customer support chatbot. Given the following extracted parts of a long document and a question, create a final answer.\n",
    "\n",
    "{context}\n",
    "\n",
    "{chat_history_indicator}\n",
    "\n",
    "User Question: {human_input}\n",
    "\n",
    "Chatbot:\"\"\"\n"
   ]
  },
  {
   "cell_type": "code",
   "execution_count": 3,
   "id": "62fdd4a5-a3b8-429e-b180-14dc3fa023b6",
   "metadata": {},
   "outputs": [],
   "source": [
    "# Define the function to handle the \"Generate Response\" button click and display the result\n",
    "def generate_response(b):\n",
    "    global template_text\n",
    "\n",
    "    question = text_box.value\n",
    "\n",
    "    bot_response = return_generate_ai_script(template_text = template_text, user_query = question)\n",
    "\n",
    "    # Check if there are relevant documents or not and display the output\n",
    "    with output:\n",
    "        if not bot_response: \n",
    "            print(f\"No relevant information found with the query: {question}\")\n",
    "        else:\n",
    "            print('\\n\\n',bot_response,'\\n\\n')\n",
    "            print('************************************************************')\n"
   ]
  },
  {
   "cell_type": "code",
   "execution_count": 4,
   "id": "3d85f23c-fb38-4dd2-ae7a-7fc68ef72904",
   "metadata": {},
   "outputs": [],
   "source": [
    "def restart_session(b):\n",
    "    global script_chain\n",
    "    \n",
    "    # Re-initialize script_chain as None\n",
    "    script_chain = None\n",
    "    \n",
    "    # Clear previous outputs in the output widget\n",
    "    output.clear_output()\n",
    "\n",
    "    # Clear the text in the text box\n",
    "    text_box.value = \"\"\n"
   ]
  },
  {
   "cell_type": "code",
   "execution_count": 5,
   "id": "c087b514-f103-4701-8157-33b3f5bd7e86",
   "metadata": {},
   "outputs": [
    {
     "data": {
      "text/html": [
       "<h1><b>Customer Support Bot - TechLink Communications</b></h1>"
      ],
      "text/plain": [
       "<IPython.core.display.HTML object>"
      ]
     },
     "metadata": {},
     "output_type": "display_data"
    },
    {
     "data": {
      "text/html": [
       "<br>"
      ],
      "text/plain": [
       "<IPython.core.display.HTML object>"
      ]
     },
     "metadata": {},
     "output_type": "display_data"
    },
    {
     "data": {
      "application/vnd.jupyter.widget-view+json": {
       "model_id": "713b3ff364d7455eb722e2c207dcbf85",
       "version_major": 2,
       "version_minor": 0
      },
      "text/plain": [
       "Text(value='', description='Type your question:', layout=Layout(width='50%'), style=TextStyle(description_widt…"
      ]
     },
     "metadata": {},
     "output_type": "display_data"
    },
    {
     "data": {
      "application/vnd.jupyter.widget-view+json": {
       "model_id": "5458d532e8d14b28baab80a45beb7760",
       "version_major": 2,
       "version_minor": 0
      },
      "text/plain": [
       "HBox(children=(Button(description='Restart Session', style=ButtonStyle()), Button(description='Generate Respon…"
      ]
     },
     "metadata": {},
     "output_type": "display_data"
    },
    {
     "data": {
      "application/vnd.jupyter.widget-view+json": {
       "model_id": "6ce6d84ac0484f679eb71d55e2172f04",
       "version_major": 2,
       "version_minor": 0
      },
      "text/plain": [
       "Output(layout=Layout(border_bottom='1px solid gray', border_left='1px solid gray', border_right='1px solid gra…"
      ]
     },
     "metadata": {},
     "output_type": "display_data"
    }
   ],
   "source": [
    "# Create the widgets\n",
    "\n",
    "# Create a text input box for the user to type their question\n",
    "text_box = widgets.Text(\n",
    "    description='Type your question:',  # Add a description label\n",
    "    layout=widgets.Layout(width='50%'),  # Set the width of the text box\n",
    "    style={'description_width': 'initial'}  # Adjust the description width\n",
    ")\n",
    "\n",
    "# Create a button to restart the session and assign an event handler\n",
    "submit_button = widgets.Button(description='Restart Session')\n",
    "submit_button.on_click(restart_session)\n",
    "\n",
    "# Create a button to generate a response and assign an event handler\n",
    "generate_button = widgets.Button(description='Generate Response')\n",
    "generate_button.on_click(generate_response)\n",
    "\n",
    "# Create an HBox to place the buttons side by side\n",
    "buttons_box = widgets.HBox([submit_button, generate_button])\n",
    "\n",
    "# Create the output widget for displaying the results\n",
    "\n",
    "# Create an output widget with specific layout and styling\n",
    "output = widgets.Output(\n",
    "    layout=widgets.Layout(width='90%', height='300px', border='1px solid gray', overflow='auto')\n",
    ")\n",
    "\n",
    "# Define an HTML title for the application\n",
    "title_html = '<h1><b>Customer Support Bot - TechLink Communications</b></h1>'\n",
    "\n",
    "# Create an HTML widget to display the title\n",
    "title_widget = HTML(title_html)\n",
    "\n",
    "# Display the widgets and output\n",
    "\n",
    "# Display the title\n",
    "display(title_widget)\n",
    "\n",
    "# Display a line break\n",
    "display(HTML(\"<br>\"))\n",
    "\n",
    "# Display the text input box and buttons side by side\n",
    "display(text_box)\n",
    "display(buttons_box)\n",
    "\n",
    "# Display the output widget for displaying results\n",
    "display(output)\n"
   ]
  },
  {
   "cell_type": "code",
   "execution_count": null,
   "id": "f9f257ff-4dae-499e-b256-16a689a3e007",
   "metadata": {},
   "outputs": [],
   "source": []
  },
  {
   "cell_type": "code",
   "execution_count": null,
   "id": "be0f9d24-bffd-481e-933d-4eb7692dad01",
   "metadata": {},
   "outputs": [],
   "source": []
  },
  {
   "cell_type": "code",
   "execution_count": null,
   "id": "3d479eb6-1dec-4b18-a1fc-2aa8214ad2ed",
   "metadata": {},
   "outputs": [],
   "source": []
  }
 ],
 "metadata": {
  "kernelspec": {
   "display_name": "Python 3 (ipykernel)",
   "language": "python",
   "name": "python3"
  },
  "language_info": {
   "codemirror_mode": {
    "name": "ipython",
    "version": 3
   },
   "file_extension": ".py",
   "mimetype": "text/x-python",
   "name": "python",
   "nbconvert_exporter": "python",
   "pygments_lexer": "ipython3",
   "version": "3.10.12"
  }
 },
 "nbformat": 4,
 "nbformat_minor": 5
}
