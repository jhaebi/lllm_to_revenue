{
 "cells": [
  {
   "cell_type": "code",
   "execution_count": 23,
   "id": "4b9db2b3-f008-4a58-b7c8-4aa79c2bd046",
   "metadata": {
    "scrolled": true
   },
   "outputs": [],
   "source": [
    "%run backend.ipynb"
   ]
  },
  {
   "cell_type": "code",
   "execution_count": 12,
   "id": "a1681dfb-9b32-4291-bf62-929d18f2d37b",
   "metadata": {},
   "outputs": [],
   "source": [
    "template_text = \"\"\"You are a customer support chatbot. Given the following extracted parts of a long document and a question, create a final answer.\n",
    "\n",
    "{context}\n",
    "\n",
    "{chat_history_indicator}\n",
    "\n",
    "User Question: {human_input}\n",
    "\n",
    "Chatbot:\"\"\""
   ]
  },
  {
   "cell_type": "code",
   "execution_count": 13,
   "id": "8632707c-623b-49bc-8f34-3b194fd83c7a",
   "metadata": {},
   "outputs": [],
   "source": [
    "def restart_session(b):\n",
    "    global script_chain \n",
    "    # re-initialize script chain as None\n",
    "    script_chain = None\n",
    "    output.clear_output()\n",
    "    text_box.value = \"\"\n",
    "    "
   ]
  },
  {
   "cell_type": "code",
   "execution_count": 14,
   "id": "0c0fd24e-a538-43ce-ae1c-f1e60fef00e5",
   "metadata": {},
   "outputs": [],
   "source": [
    "def generate_response(b):\n",
    "    question = text_box.value\n",
    "    bot_response = backend_code(template_text = template_text, user_query = question)\n",
    "\n",
    "    with output: \n",
    "        if not bot_response: \n",
    "            print(\"No relevant information found\")\n",
    "        else:\n",
    "            print('\\n\\n', bot_response, '\\n\\n')\n",
    "            print(\"******\")"
   ]
  },
  {
   "cell_type": "code",
   "execution_count": 24,
   "id": "63ac6e75-55a0-4e0f-87b7-b05659c39b7c",
   "metadata": {},
   "outputs": [
    {
     "data": {
      "text/html": [
       "<h1><b>Customer Support Bot - Techlink Communications</b></h1>"
      ],
      "text/plain": [
       "<IPython.core.display.HTML object>"
      ]
     },
     "metadata": {},
     "output_type": "display_data"
    },
    {
     "data": {
      "text/html": [
       "<br>"
      ],
      "text/plain": [
       "<IPython.core.display.HTML object>"
      ]
     },
     "metadata": {},
     "output_type": "display_data"
    },
    {
     "data": {
      "application/vnd.jupyter.widget-view+json": {
       "model_id": "1dad0b3b4ec149f2a3f99d3c330ffd0b",
       "version_major": 2,
       "version_minor": 0
      },
      "text/plain": [
       "Text(value='', description='Type your question', layout=Layout(width='50%'), style=TextStyle(description_width…"
      ]
     },
     "metadata": {},
     "output_type": "display_data"
    },
    {
     "data": {
      "application/vnd.jupyter.widget-view+json": {
       "model_id": "9a3ab3e540054063b2062b92afad64b5",
       "version_major": 2,
       "version_minor": 0
      },
      "text/plain": [
       "HBox(children=(Button(description='Restart Session', style=ButtonStyle()), Button(description='Generate Respon…"
      ]
     },
     "metadata": {},
     "output_type": "display_data"
    },
    {
     "data": {
      "application/vnd.jupyter.widget-view+json": {
       "model_id": "29daf3e1958c4354ab6f22a315f32a96",
       "version_major": 2,
       "version_minor": 0
      },
      "text/plain": [
       "Output(layout=Layout(border_bottom='1px solid gray', border_left='1px solid gray', border_right='1px solid gra…"
      ]
     },
     "metadata": {},
     "output_type": "display_data"
    }
   ],
   "source": [
    "text_box = widgets.Text(description = 'Type your question', layout = widgets.Layout(width = '50%'), style = {'description_width':'initial'})\n",
    "\n",
    "submit_button = widgets.Button(description = 'Restart Session')\n",
    "submit_button.on_click(restart_session)\n",
    "\n",
    "generate_button = widgets.Button(description = 'Generate Response')\n",
    "generate_button.on_click(generate_response)\n",
    "\n",
    "buttons_box = widgets.HBox([submit_button, generate_button])\n",
    "\n",
    "output = widgets.Output(\n",
    "    layout = widgets.Layout(widget = '90%', height = '300px', border = '1px solid gray', overflow = 'auto')\n",
    ")\n",
    "\n",
    "title_html = '<h1><b>Customer Support Bot - Techlink Communications</b></h1>'\n",
    "\n",
    "title_widget = HTML(title_html)\n",
    "\n",
    "display(title_widget)\n",
    "display(HTML(\"<br>\"))\n",
    "display(text_box)\n",
    "display(buttons_box)\n",
    "display(output)"
   ]
  },
  {
   "cell_type": "code",
   "execution_count": null,
   "id": "5455bf92-a445-4bb8-8da2-94aafc53bdb3",
   "metadata": {},
   "outputs": [],
   "source": []
  },
  {
   "cell_type": "code",
   "execution_count": null,
   "id": "25aaa333-03c1-45b2-8934-a9b958e36c1d",
   "metadata": {},
   "outputs": [],
   "source": []
  }
 ],
 "metadata": {
  "kernelspec": {
   "display_name": "Python 3.10 (myenv310)",
   "language": "python",
   "name": "myenv310"
  },
  "language_info": {
   "codemirror_mode": {
    "name": "ipython",
    "version": 3
   },
   "file_extension": ".py",
   "mimetype": "text/x-python",
   "name": "python",
   "nbconvert_exporter": "python",
   "pygments_lexer": "ipython3",
   "version": "3.10.12"
  }
 },
 "nbformat": 4,
 "nbformat_minor": 5
}
