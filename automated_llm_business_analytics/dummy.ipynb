{
 "cells": [
  {
   "cell_type": "code",
   "execution_count": 1,
   "id": "c1833dfa-12f0-4980-85bd-ac81cd4798be",
   "metadata": {},
   "outputs": [],
   "source": [
    "import pandas as pd\n",
    "import os\n",
    "import openai\n",
    "\n",
    "# Replace 'YOUR_API_KEY' with your actual OpenAI API key\n",
    "api_key = os.environ['OPENAI_API_KEY']\n",
    "\n",
    "# Initialize the OpenAI API client\n",
    "openai.api_key = api_key\n",
    "\n",
    "def generate_text(prompt, temperature=0.1):\n",
    "    try:\n",
    "        response = openai.ChatCompletion.create(\n",
    "            model=\"gpt-3.5-turbo\",  # You can choose an appropriate engine\n",
    "            messages=[{\"role\": \"user\", \"content\": prompt}],\n",
    "            temperature=temperature\n",
    "        )\n",
    "        return response.choices[0].message.content\n",
    "    except Exception as e:\n",
    "        return str(e)"
   ]
  },
  {
   "cell_type": "code",
   "execution_count": 2,
   "id": "a37f0861-285b-4ca1-bf3c-914814a365ee",
   "metadata": {},
   "outputs": [],
   "source": [
    "import pandas as pd\n",
    "df = pd.read_csv('titanic.csv')\n"
   ]
  },
  {
   "cell_type": "code",
   "execution_count": 4,
   "id": "4bd26f15-7707-4318-bf18-a8b5a4abaaf7",
   "metadata": {},
   "outputs": [],
   "source": [
    "df.to_clipboard()"
   ]
  },
  {
   "cell_type": "code",
   "execution_count": 5,
   "id": "11891cc2-9f1b-458c-a7f2-9a76efc2f561",
   "metadata": {},
   "outputs": [
    {
     "data": {
      "text/plain": [
       "(891, 12)"
      ]
     },
     "execution_count": 5,
     "metadata": {},
     "output_type": "execute_result"
    }
   ],
   "source": [
    "df.shape"
   ]
  },
  {
   "cell_type": "code",
   "execution_count": 6,
   "id": "4d67bc78-d0f3-4acd-a408-7c110f6530ed",
   "metadata": {},
   "outputs": [
    {
     "data": {
      "text/html": [
       "<div>\n",
       "<style scoped>\n",
       "    .dataframe tbody tr th:only-of-type {\n",
       "        vertical-align: middle;\n",
       "    }\n",
       "\n",
       "    .dataframe tbody tr th {\n",
       "        vertical-align: top;\n",
       "    }\n",
       "\n",
       "    .dataframe thead th {\n",
       "        text-align: right;\n",
       "    }\n",
       "</style>\n",
       "<table border=\"1\" class=\"dataframe\">\n",
       "  <thead>\n",
       "    <tr style=\"text-align: right;\">\n",
       "      <th></th>\n",
       "      <th>Survived</th>\n",
       "      <th>Average Age</th>\n",
       "    </tr>\n",
       "  </thead>\n",
       "  <tbody>\n",
       "    <tr>\n",
       "      <th>0</th>\n",
       "      <td>0</td>\n",
       "      <td>30.626179</td>\n",
       "    </tr>\n",
       "    <tr>\n",
       "      <th>1</th>\n",
       "      <td>1</td>\n",
       "      <td>28.343690</td>\n",
       "    </tr>\n",
       "  </tbody>\n",
       "</table>\n",
       "</div>"
      ],
      "text/plain": [
       "   Survived  Average Age\n",
       "0         0    30.626179\n",
       "1         1    28.343690"
      ]
     },
     "execution_count": 6,
     "metadata": {},
     "output_type": "execute_result"
    }
   ],
   "source": [
    "agg_df = pd.DataFrame(df.groupby('Survived').Age.mean()).rename(columns = {'Age':'Average Age'}).reset_index()\n",
    "\n",
    "agg_df"
   ]
  },
  {
   "cell_type": "code",
   "execution_count": 7,
   "id": "6e502d68-9c39-46ed-b4cb-29eb10c59de8",
   "metadata": {},
   "outputs": [],
   "source": [
    "# Example usage:\n",
    "prompt = f\"\"\"Create a bar chart that shows average Age by Survived,{agg_df}\n",
    "\"\"\""
   ]
  },
  {
   "cell_type": "code",
   "execution_count": 8,
   "id": "cc1b7d1a-b7ae-4935-8a13-68c175c9d48c",
   "metadata": {},
   "outputs": [
    {
     "data": {
      "text/plain": [
       "'Create a bar chart that shows average Age by Survived,   Survived  Average Age\\n0         0    30.626179\\n1         1    28.343690\\n'"
      ]
     },
     "execution_count": 8,
     "metadata": {},
     "output_type": "execute_result"
    }
   ],
   "source": [
    "prompt"
   ]
  },
  {
   "cell_type": "code",
   "execution_count": 9,
   "id": "009f60be-ddf8-4540-bbf0-fc346b461759",
   "metadata": {},
   "outputs": [
    {
     "name": "stdout",
     "output_type": "stream",
     "text": [
      "Here is a bar chart that shows the average age by survived status:\n",
      "\n",
      "```\n",
      "import matplotlib.pyplot as plt\n",
      "\n",
      "# Data\n",
      "survived = [0, 1]\n",
      "average_age = [30.626179, 28.343690]\n",
      "\n",
      "# Bar chart\n",
      "plt.bar(survived, average_age, color='blue')\n",
      "\n",
      "# Title and labels\n",
      "plt.title('Average Age by Survived')\n",
      "plt.xlabel('Survived')\n",
      "plt.ylabel('Average Age')\n",
      "\n",
      "# X-axis tick labels\n",
      "plt.xticks(survived, ['Not Survived', 'Survived'])\n",
      "\n",
      "# Display the chart\n",
      "plt.show()\n",
      "```\n",
      "\n",
      "This bar chart will have two bars, one for \"Not Survived\" and one for \"Survived\". The height of each bar represents the average age for that category. The x-axis represents the survived status, and the y-axis represents the average age.\n"
     ]
    }
   ],
   "source": [
    "generated_text = generate_text(prompt)\n",
    "print(generated_text)\n"
   ]
  },
  {
   "cell_type": "code",
   "execution_count": 10,
   "id": "17f6ece8-ef25-486e-8071-56bff44b0e41",
   "metadata": {},
   "outputs": [
    {
     "data": {
      "image/png": "[encoded data removed]",
      "text/plain": [
       "<Figure size 640x480 with 1 Axes>"
      ]
     },
     "metadata": {},
     "output_type": "display_data"
    }
   ],
   "source": [
    "import matplotlib.pyplot as plt\n",
    "\n",
    "# Data\n",
    "survived = [0, 1]\n",
    "average_age = [30.626179, 28.343690]\n",
    "\n",
    "# Bar chart\n",
    "plt.bar(survived, average_age, color='blue')\n",
    "\n",
    "# Title and labels\n",
    "plt.title('Average Age by Survived')\n",
    "plt.xlabel('Survived')\n",
    "plt.ylabel('Average Age')\n",
    "\n",
    "# X-axis tick labels\n",
    "plt.xticks(survived, ['Not Survived', 'Survived'])\n",
    "\n",
    "# Display the chart\n",
    "plt.show()"
   ]
  },
  {
   "cell_type": "code",
   "execution_count": null,
   "id": "4f9596ba-ba02-4e83-adda-b3ee4b04ad58",
   "metadata": {},
   "outputs": [],
   "source": []
  },
  {
   "cell_type": "code",
   "execution_count": 11,
   "id": "73566e5f-d604-4aed-bf93-cdd0114368fb",
   "metadata": {},
   "outputs": [],
   "source": [
    "# Generate a list of departments\n",
    "departments = ['HR', 'Finance', 'Marketing', 'Sales', 'Engineering']\n",
    "\n",
    "# Create an empty list to store data\n",
    "data = []\n",
    "\n",
    "# Generate dummy data\n",
    "for _ in range(100):\n",
    "    month = random.choice(['January', 'February', 'March'])\n",
    "    department = random.choice(departments)\n",
    "    employee_name = f'Employee{_ + 1}'\n",
    "    spending_amount = round(random.uniform(1000, 5000), 2)\n",
    "    \n",
    "    # Check for duplicate employee names in different departments\n",
    "    while any((d['Employee Name'] == employee_name) and (d['Department'] != department) for d in data):\n",
    "        employee_name = f'Employee{_ + 1}'\n",
    "    \n",
    "    data.append({\n",
    "        'Month': month,\n",
    "        'Department': department,\n",
    "        'Employee Name': employee_name,\n",
    "        'Spending Amount': spending_amount\n",
    "    })\n",
    "\n",
    "# Create a DataFrame\n",
    "df = pd.DataFrame(data)"
   ]
  },
  {
   "cell_type": "code",
   "execution_count": 12,
   "id": "0f97d03f-ab02-4295-b20c-ed033ba9ab71",
   "metadata": {},
   "outputs": [
    {
     "data": {
      "text/html": [
       "<div>\n",
       "<style scoped>\n",
       "    .dataframe tbody tr th:only-of-type {\n",
       "        vertical-align: middle;\n",
       "    }\n",
       "\n",
       "    .dataframe tbody tr th {\n",
       "        vertical-align: top;\n",
       "    }\n",
       "\n",
       "    .dataframe thead th {\n",
       "        text-align: right;\n",
       "    }\n",
       "</style>\n",
       "<table border=\"1\" class=\"dataframe\">\n",
       "  <thead>\n",
       "    <tr style=\"text-align: right;\">\n",
       "      <th></th>\n",
       "      <th>Month</th>\n",
       "      <th>Department</th>\n",
       "      <th>Employee Name</th>\n",
       "      <th>Spending Amount</th>\n",
       "    </tr>\n",
       "  </thead>\n",
       "  <tbody>\n",
       "    <tr>\n",
       "      <th>0</th>\n",
       "      <td>January</td>\n",
       "      <td>Sales</td>\n",
       "      <td>Employee1</td>\n",
       "      <td>3418.18</td>\n",
       "    </tr>\n",
       "    <tr>\n",
       "      <th>1</th>\n",
       "      <td>January</td>\n",
       "      <td>Finance</td>\n",
       "      <td>Employee2</td>\n",
       "      <td>4846.34</td>\n",
       "    </tr>\n",
       "    <tr>\n",
       "      <th>2</th>\n",
       "      <td>January</td>\n",
       "      <td>Sales</td>\n",
       "      <td>Employee3</td>\n",
       "      <td>1755.83</td>\n",
       "    </tr>\n",
       "    <tr>\n",
       "      <th>3</th>\n",
       "      <td>March</td>\n",
       "      <td>HR</td>\n",
       "      <td>Employee4</td>\n",
       "      <td>4393.49</td>\n",
       "    </tr>\n",
       "    <tr>\n",
       "      <th>4</th>\n",
       "      <td>March</td>\n",
       "      <td>Engineering</td>\n",
       "      <td>Employee5</td>\n",
       "      <td>2167.54</td>\n",
       "    </tr>\n",
       "    <tr>\n",
       "      <th>...</th>\n",
       "      <td>...</td>\n",
       "      <td>...</td>\n",
       "      <td>...</td>\n",
       "      <td>...</td>\n",
       "    </tr>\n",
       "    <tr>\n",
       "      <th>95</th>\n",
       "      <td>March</td>\n",
       "      <td>Marketing</td>\n",
       "      <td>Employee96</td>\n",
       "      <td>2071.19</td>\n",
       "    </tr>\n",
       "    <tr>\n",
       "      <th>96</th>\n",
       "      <td>February</td>\n",
       "      <td>Sales</td>\n",
       "      <td>Employee97</td>\n",
       "      <td>3184.73</td>\n",
       "    </tr>\n",
       "    <tr>\n",
       "      <th>97</th>\n",
       "      <td>January</td>\n",
       "      <td>Engineering</td>\n",
       "      <td>Employee98</td>\n",
       "      <td>2743.03</td>\n",
       "    </tr>\n",
       "    <tr>\n",
       "      <th>98</th>\n",
       "      <td>March</td>\n",
       "      <td>Engineering</td>\n",
       "      <td>Employee99</td>\n",
       "      <td>1575.70</td>\n",
       "    </tr>\n",
       "    <tr>\n",
       "      <th>99</th>\n",
       "      <td>January</td>\n",
       "      <td>Engineering</td>\n",
       "      <td>Employee100</td>\n",
       "      <td>4054.57</td>\n",
       "    </tr>\n",
       "  </tbody>\n",
       "</table>\n",
       "<p>100 rows × 4 columns</p>\n",
       "</div>"
      ],
      "text/plain": [
       "       Month   Department Employee Name  Spending Amount\n",
       "0    January        Sales     Employee1          3418.18\n",
       "1    January      Finance     Employee2          4846.34\n",
       "2    January        Sales     Employee3          1755.83\n",
       "3      March           HR     Employee4          4393.49\n",
       "4      March  Engineering     Employee5          2167.54\n",
       "..       ...          ...           ...              ...\n",
       "95     March    Marketing    Employee96          2071.19\n",
       "96  February        Sales    Employee97          3184.73\n",
       "97   January  Engineering    Employee98          2743.03\n",
       "98     March  Engineering    Employee99          1575.70\n",
       "99   January  Engineering   Employee100          4054.57\n",
       "\n",
       "[100 rows x 4 columns]"
      ]
     },
     "execution_count": 12,
     "metadata": {},
     "output_type": "execute_result"
    }
   ],
   "source": [
    "df"
   ]
  },
  {
   "cell_type": "code",
   "execution_count": 13,
   "id": "52d3fea2-ec97-49ce-a730-991d46a1f659",
   "metadata": {},
   "outputs": [],
   "source": [
    "def sample_df_with_fully_unique_row_across_all_columns(df):\n",
    "    # Initialize an empty DataFrame to store the sampled rows\n",
    "    sampled_df = pd.DataFrame(columns=df.columns)\n",
    "    \n",
    "    # Initialize a set to keep track of sampled rows as tuples\n",
    "    sampled_rows = set()\n",
    "    \n",
    "    # Loop through the rows and add them to the sampled_df while checking for uniqueness\n",
    "    for index, row in df.iterrows():\n",
    "        row_tuple = tuple(row)\n",
    "        if row_tuple not in sampled_rows:\n",
    "            sampled_df = pd.concat([sampled_df, row.to_frame().T])\n",
    "            sampled_rows.add(row_tuple)\n",
    "    \n",
    "        # Check if you have enough unique rows; you can adjust the number as needed\n",
    "        if len(sampled_df) >= 5:\n",
    "            break\n",
    "    \n",
    "    return sampled_df"
   ]
  },
  {
   "cell_type": "code",
   "execution_count": 14,
   "id": "584c78d2-d7c2-4178-a88d-ca83893323d7",
   "metadata": {},
   "outputs": [],
   "source": [
    "sampled_data = sample_df_with_fully_unique_row_across_all_columns(df)"
   ]
  },
  {
   "cell_type": "code",
   "execution_count": 16,
   "id": "ed1727a3-ab90-4ad6-a9b6-7071aa0ef62b",
   "metadata": {},
   "outputs": [
    {
     "data": {
      "text/html": [
       "<div>\n",
       "<style scoped>\n",
       "    .dataframe tbody tr th:only-of-type {\n",
       "        vertical-align: middle;\n",
       "    }\n",
       "\n",
       "    .dataframe tbody tr th {\n",
       "        vertical-align: top;\n",
       "    }\n",
       "\n",
       "    .dataframe thead th {\n",
       "        text-align: right;\n",
       "    }\n",
       "</style>\n",
       "<table border=\"1\" class=\"dataframe\">\n",
       "  <thead>\n",
       "    <tr style=\"text-align: right;\">\n",
       "      <th></th>\n",
       "      <th>Month</th>\n",
       "      <th>Department</th>\n",
       "      <th>Employee Name</th>\n",
       "      <th>Spending Amount</th>\n",
       "    </tr>\n",
       "  </thead>\n",
       "  <tbody>\n",
       "    <tr>\n",
       "      <th>0</th>\n",
       "      <td>January</td>\n",
       "      <td>Sales</td>\n",
       "      <td>Employee1</td>\n",
       "      <td>3418.18</td>\n",
       "    </tr>\n",
       "    <tr>\n",
       "      <th>1</th>\n",
       "      <td>January</td>\n",
       "      <td>Finance</td>\n",
       "      <td>Employee2</td>\n",
       "      <td>4846.34</td>\n",
       "    </tr>\n",
       "    <tr>\n",
       "      <th>2</th>\n",
       "      <td>January</td>\n",
       "      <td>Sales</td>\n",
       "      <td>Employee3</td>\n",
       "      <td>1755.83</td>\n",
       "    </tr>\n",
       "    <tr>\n",
       "      <th>3</th>\n",
       "      <td>March</td>\n",
       "      <td>HR</td>\n",
       "      <td>Employee4</td>\n",
       "      <td>4393.49</td>\n",
       "    </tr>\n",
       "    <tr>\n",
       "      <th>4</th>\n",
       "      <td>March</td>\n",
       "      <td>Engineering</td>\n",
       "      <td>Employee5</td>\n",
       "      <td>2167.54</td>\n",
       "    </tr>\n",
       "  </tbody>\n",
       "</table>\n",
       "</div>"
      ],
      "text/plain": [
       "     Month   Department Employee Name Spending Amount\n",
       "0  January        Sales     Employee1         3418.18\n",
       "1  January      Finance     Employee2         4846.34\n",
       "2  January        Sales     Employee3         1755.83\n",
       "3    March           HR     Employee4         4393.49\n",
       "4    March  Engineering     Employee5         2167.54"
      ]
     },
     "execution_count": 16,
     "metadata": {},
     "output_type": "execute_result"
    }
   ],
   "source": [
    "sampled_data"
   ]
  },
  {
   "cell_type": "code",
   "execution_count": 17,
   "id": "d53eed73-0666-4763-87cf-fa43dbd31041",
   "metadata": {},
   "outputs": [],
   "source": [
    "user_query = 'create a bar chart that shows average spending amount by department for the month of January'"
   ]
  },
  {
   "cell_type": "code",
   "execution_count": 18,
   "id": "7dd83927-276d-4896-90ce-c18f3242a7cc",
   "metadata": {},
   "outputs": [],
   "source": [
    "prompt = f\"\"\"Generate code for this request \"Create an appropriate visual to show {user_query}\"\n",
    "\n",
    "Sample Data:\n",
    "{sampled_data}  # Define or replace sampled_data with your actual data\n",
    "\n",
    "Instructions for Code Generation:\n",
    "1. Write code to filter the data for the specified column and values when necessary.\n",
    "2. Assume data is just called \"df\". Don't create any dummy data on your own\n",
    "3. Just give me the code as output\"\"\""
   ]
  },
  {
   "cell_type": "code",
   "execution_count": 19,
   "id": "6f116df2-716c-4969-a6e8-db11eed5be1c",
   "metadata": {},
   "outputs": [],
   "source": [
    "generated_ai_text = generate_text(prompt)"
   ]
  },
  {
   "cell_type": "code",
   "execution_count": 24,
   "id": "4d4486e2-ed14-4f6c-bb6a-0eb9be20a244",
   "metadata": {},
   "outputs": [
    {
     "data": {
      "image/png": "[encoded data removed]",
      "text/plain": [
       "<Figure size 640x480 with 1 Axes>"
      ]
     },
     "metadata": {},
     "output_type": "display_data"
    }
   ],
   "source": [
    "exec(generated_ai_text)"
   ]
  },
  {
   "cell_type": "code",
   "execution_count": 21,
   "id": "0b962b7c-3fda-4568-b8aa-0e7118ec53a6",
   "metadata": {},
   "outputs": [
    {
     "name": "stdout",
     "output_type": "stream",
     "text": [
      "import pandas as pd\n",
      "import matplotlib.pyplot as plt\n",
      "\n",
      "# Assuming the data is stored in a DataFrame called \"df\"\n",
      "\n",
      "# Filter the data for the month of January\n",
      "january_data = df[df['Month'] == 'January']\n",
      "\n",
      "# Group the data by department and calculate the average spending amount\n",
      "average_spending_by_department = january_data.groupby('Department')['Spending Amount'].mean()\n",
      "\n",
      "# Create a bar chart to visualize the average spending amount by department\n",
      "average_spending_by_department.plot(kind='bar')\n",
      "plt.xlabel('Department')\n",
      "plt.ylabel('Average Spending Amount')\n",
      "plt.title('Average Spending Amount by Department for January')\n",
      "plt.show()\n"
     ]
    }
   ],
   "source": [
    "print(generated_ai_text)"
   ]
  },
  {
   "cell_type": "code",
   "execution_count": 31,
   "id": "92d6f525-e426-46a8-9198-38ceaae62c78",
   "metadata": {},
   "outputs": [],
   "source": [
    "def process_doc_files(SUPPORT_DOC_FOLDER_PATH) -> dict:\n",
    "    \"\"\"\n",
    "    Process text files in a folder and return a dictionary with file names as keys and content as values.\n",
    "\n",
    "    :param folder_path: The path to the folder containing the text files.\n",
    "    :return: A dictionary with file names as keys and content as values.\n",
    "    \"\"\"\n",
    "    # Initialize an empty dictionary to store the results\n",
    "    doc_dict = {}\n",
    "\n",
    "    # Check if the folder exists\n",
    "    if not os.path.exists(SUPPORT_DOC_FOLDER_PATH):\n",
    "        return doc_dict  # Return an empty dictionary if the folder does not exist\n",
    "\n",
    "    # List all files in the folder\n",
    "    file_list = os.listdir(SUPPORT_DOC_FOLDER_PATH)\n",
    "\n",
    "    # Iterate through the files\n",
    "    for filename in file_list:\n",
    "        # Check if the file has a .txt extension\n",
    "        if filename.endswith(\".txt\"):\n",
    "            # Create the full path to the file\n",
    "            file_path = os.path.join(SUPPORT_DOC_FOLDER_PATH, filename)\n",
    "\n",
    "            # Open the file and read its content\n",
    "            with open(file_path, 'r', encoding='utf-8') as file:\n",
    "                file_content = file.read()\n",
    "\n",
    "            # Store the content in the dictionary with the filename as the key\n",
    "            doc_dict[filename] = file_content\n",
    "\n",
    "    return doc_dict\n",
    "\n",
    "\n",
    "# Define the function to extract the \"document_objects\" object\n",
    "def extract_document_objects(all_file_mapping):\n",
    "\n",
    "    document_objects = []\n",
    "\n",
    "    for title, doc in all_file_mapping.items():\n",
    "        \n",
    "        document_object = Document(page_content= doc)\n",
    "        document_objects.append(document_object)    \n",
    "\n",
    "    return document_objects"
   ]
  },
  {
   "cell_type": "code",
   "execution_count": 33,
   "id": "340ab507-195a-44af-a114-1ff9c9fe0cc9",
   "metadata": {
    "scrolled": true
   },
   "outputs": [],
   "source": [
    "SUPPORT_DOC_FOLDER_PATH = 'support_docs'\n",
    "all_docs = process_doc_files(SUPPORT_DOC_FOLDER_PATH)"
   ]
  },
  {
   "cell_type": "code",
   "execution_count": 34,
   "id": "35426d54-9871-4100-8a73-c18dadc11e18",
   "metadata": {},
   "outputs": [
    {
     "data": {
      "text/plain": [
       "[Document(page_content='TechLink Communications Mobile App User Guide\\n\\nOur mobile app makes managing your TechLink Communications account easier than ever. Follow this guide to get started:\\n\\n1. Download the App:\\n   - Visit your device\\'s app store and search for \"TechLink Communications.\"\\n   - Download and install the app.\\n\\n2. Account Management:\\n   - Log in using your TechLink Communications credentials.\\n   - Access account details, billing information, and usage data.\\n\\n3. Bill Payment:\\n   - Make secure payments from your mobile device.\\n   - Set up recurring payments for convenience.\\n\\n4. Troubleshooting:\\n   - Use the app to troubleshoot common issues, such as slow internet or TV problems.\\n\\nFor more information and FAQs, visit www.techlinkcommunications.com/support/mobile-app.\\n\\nIf you need assistance or have questions about the app, contact our app support team at appsupport@techlinkcommunications.com or call (123) 456-7890.\\n\\nManage your TechLink Communications account on the go!\\n\\nSincerely,\\nTechLink Communications Team\\n', metadata={}),\n",
       " Document(page_content='Utilize this sample code as foundation: \\n\\nHow to create nested pie chart\\n\\n# Calculate metrics by specified columns. In this case, looking at total sum of a numeric column \\ninner = df.groupby([\"categorical_column1\", \"categorical_column2\"])[\"metric_column1\"].sum()\\nouter = df.groupby(\"categorical_column1\")[\"metric_column1\"].sum()\\ninner_labels = inner.index.get_level_values(1)\\n\\n# Create the nested pie chart\\nfig, ax = plt.subplots(figsize=(10, 4))\\nsize = 0.3\\n\\n# Outer pie chart\\nax.pie(outer, radius=1,\\n       labels=outer.index,\\n       autopct=\\'%1.1f%%\\',\\n       wedgeprops=dict(width=size, edgecolor=\\'w\\'))\\n\\n# Inner pie chart\\nax.pie(inner, radius=1 - size,\\n       labels=inner_labels,\\n       autopct=\\'%1.1f%%\\',\\n       wedgeprops=dict(width=size, edgecolor=\\'w\\'))\\n\\n# Set aspect ratio to equal and add a legend\\nax.set(aspect=\"equal\", title=\\'...\\')\\nax.legend(inner_labels, title=\"Department\", loc=\"center left\", bbox_to_anchor=(1, 0, 0.5, 1))\\n\\nplt.show()', metadata={})]"
      ]
     },
     "execution_count": 34,
     "metadata": {},
     "output_type": "execute_result"
    }
   ],
   "source": [
    "extract_document_objects(all_docs)"
   ]
  },
  {
   "cell_type": "code",
   "execution_count": null,
   "id": "969c3f79-076f-4f86-83b7-ca2ba85d72a3",
   "metadata": {},
   "outputs": [],
   "source": []
  },
  {
   "cell_type": "code",
   "execution_count": null,
   "id": "0047732f-16f3-44c3-89ab-7352bdccaf5f",
   "metadata": {},
   "outputs": [],
   "source": []
  },
  {
   "cell_type": "code",
   "execution_count": null,
   "id": "b4ba797d-8928-4d2e-a77e-97c65ebaf26e",
   "metadata": {},
   "outputs": [],
   "source": []
  },
  {
   "cell_type": "code",
   "execution_count": 41,
   "id": "2dc653d5-46ea-4d78-9828-ace6d459f40c",
   "metadata": {},
   "outputs": [
    {
     "name": "stdout",
     "output_type": "stream",
     "text": [
      "1 1\n",
      "2 2\n",
      "3 3\n",
      "1 4\n"
     ]
    }
   ],
   "source": [
    "num_columns = 3\n",
    "figures = [1,2,3,4]\n",
    "\n",
    "for i in range(0, len(figures), num_columns):\n",
    "    for j in range(num_columns):\n",
    "        if i+j < len(figures):\n",
    "            print(j+1, i+j + 1)"
   ]
  },
  {
   "cell_type": "code",
   "execution_count": null,
   "id": "1eca4e8b-7112-4488-a104-5f6dc35b26de",
   "metadata": {},
   "outputs": [],
   "source": []
  },
  {
   "cell_type": "code",
   "execution_count": null,
   "id": "468e5032-d583-4140-8f41-7f757013c9a9",
   "metadata": {},
   "outputs": [],
   "source": []
  },
  {
   "cell_type": "code",
   "execution_count": null,
   "id": "b11eb825-f98f-4d63-8d8e-036fc9d8d968",
   "metadata": {},
   "outputs": [],
   "source": []
  },
  {
   "cell_type": "code",
   "execution_count": null,
   "id": "1e31790e-d248-4767-840c-c3bf512300d6",
   "metadata": {},
   "outputs": [],
   "source": []
  },
  {
   "cell_type": "code",
   "execution_count": null,
   "id": "3c43c674-2852-487d-8c88-c625845aa883",
   "metadata": {},
   "outputs": [],
   "source": []
  },
  {
   "cell_type": "code",
   "execution_count": null,
   "id": "0cf9b226-c106-4fdc-a97b-1f73cf14ed3b",
   "metadata": {},
   "outputs": [],
   "source": []
  },
  {
   "cell_type": "code",
   "execution_count": null,
   "id": "808ec79a-d3e3-4f19-8bc0-e1a872412782",
   "metadata": {},
   "outputs": [],
   "source": []
  },
  {
   "cell_type": "code",
   "execution_count": null,
   "id": "99bb0671-9551-4756-a9ed-6f6145d68653",
   "metadata": {},
   "outputs": [],
   "source": []
  },
  {
   "cell_type": "code",
   "execution_count": null,
   "id": "17d1b37b-f939-4404-aa3c-2d04b109dec6",
   "metadata": {},
   "outputs": [],
   "source": []
  },
  {
   "cell_type": "code",
   "execution_count": null,
   "id": "18b55805-5d90-4e1d-83c1-c323415b4a94",
   "metadata": {},
   "outputs": [],
   "source": []
  },
  {
   "cell_type": "code",
   "execution_count": null,
   "id": "97f1a8d1-6e4e-4047-896e-21c5c75a8f4e",
   "metadata": {},
   "outputs": [],
   "source": []
  },
  {
   "cell_type": "code",
   "execution_count": null,
   "id": "5eac320a-6ccf-492e-9658-06734faa0402",
   "metadata": {},
   "outputs": [],
   "source": []
  },
  {
   "cell_type": "code",
   "execution_count": null,
   "id": "b8c8a10f-ffe9-42e8-88b8-e1355794cbd7",
   "metadata": {},
   "outputs": [],
   "source": []
  },
  {
   "cell_type": "code",
   "execution_count": null,
   "id": "4ff45163-6fd1-42e1-aafd-7aff2b2c574a",
   "metadata": {},
   "outputs": [],
   "source": []
  },
  {
   "cell_type": "code",
   "execution_count": null,
   "id": "127ecce8-133f-4e47-8f49-77cf3f23cf40",
   "metadata": {},
   "outputs": [],
   "source": []
  },
  {
   "cell_type": "code",
   "execution_count": null,
   "id": "752d4c43-856b-4672-90f9-6bbee4488037",
   "metadata": {},
   "outputs": [],
   "source": []
  },
  {
   "cell_type": "code",
   "execution_count": null,
   "id": "5faf0639-f964-4281-8b30-f86567c06052",
   "metadata": {},
   "outputs": [],
   "source": []
  },
  {
   "cell_type": "code",
   "execution_count": null,
   "id": "ef77e274-8ce3-498f-a252-57588778d7fe",
   "metadata": {
    "scrolled": true
   },
   "outputs": [],
   "source": [
    "import pandas as pd\n",
    "import os\n",
    "import boto3\n",
    "from langchain.schema import Document\n",
    "from langchain.embeddings import OpenAIEmbeddings\n",
    "from langchain.vectorstores import Chroma\n",
    "from bs4 import BeautifulSoup\n",
    "from databricks.connect import DatabricksSession as SparkSession\n",
    "from databricks.sdk.core import Config\n",
    "import shutil\n",
    "import re\n",
    "\n",
    "query = '''select *, FROM_UNIXTIME(try_cast(a.ts as double)) AS datetime_column from hive_metastore.devrel_slack_events.gold_parent_messages_devrel_reaction_added as a\n",
    "\n",
    "inner join hive_metastore.devrel_slack_events.gold_parent_messages_join_replies as r \n",
    "\n",
    "using (id, channel_name, ts, type, user, text, event_ts_final, is_parent_message)\n",
    "\n",
    "WHERE a.white_check_mark_added_at is not null\n",
    "AND a.channel_name = \"gx-community-support\"'''\n",
    "\n",
    "\n",
    "CLUSTER_ID = os.environ.get(\"CLUSTER_ID\")\n",
    "    \n",
    "config = Config(profile = 'default', cluster_id = CLUSTER_ID)\n",
    "spark = SparkSession.builder.sdkConfig(config).getOrCreate()\n",
    "\n",
    "df = spark.sql(query)\n",
    "    "
   ]
  },
  {
   "cell_type": "code",
   "execution_count": null,
   "id": "779112db-0b63-40be-ab3f-d071e6126566",
   "metadata": {},
   "outputs": [],
   "source": [
    "spark.sql(query)"
   ]
  },
  {
   "cell_type": "code",
   "execution_count": null,
   "id": "7eb264de-3ea1-45f5-8217-1333aced4d10",
   "metadata": {},
   "outputs": [],
   "source": []
  },
  {
   "cell_type": "markdown",
   "id": "e5f95c54-ae5f-4c3d-b956-0d5f4ba150e2",
   "metadata": {},
   "source": []
  }
 ],
 "metadata": {
  "kernelspec": {
   "display_name": "Python 3.10 (myenv310)",
   "language": "python",
   "name": "myenv310"
  },
  "language_info": {
   "codemirror_mode": {
    "name": "ipython",
    "version": 3
   },
   "file_extension": ".py",
   "mimetype": "text/x-python",
   "name": "python",
   "nbconvert_exporter": "python",
   "pygments_lexer": "ipython3",
   "version": "3.10.12"
  }
 },
 "nbformat": 4,
 "nbformat_minor": 5
}
